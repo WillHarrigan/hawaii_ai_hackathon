{
 "cells": [
  {
   "cell_type": "code",
   "execution_count": null,
   "metadata": {},
   "outputs": [],
   "source": [
    "ls"
   ]
  },
  {
   "cell_type": "code",
   "execution_count": 1,
   "metadata": {},
   "outputs": [],
   "source": [
    "from pydantic_ai import Agent\n",
    "import os\n",
    "import requests\n",
    "from datetime import datetime, timedelta\n",
    "import matplotlib.image as mpimg\n",
    "import matplotlib.pyplot as plt\n",
    "from requests.models import PreparedRequest\n",
    "from urllib.request import Request, urlopen\n",
    "import numpy as np\n",
    "from dateutil.relativedelta import relativedelta\n",
    "from typing import Optional\n",
    "\n",
    "import json\n",
    "import plotly.express as px\n",
    "import pandas as pd\n",
    "from pydantic import Field\n",
    "import sys\n",
    "sys.path.append('/Users/williamharrigan/Desktop/hackathon/')\n",
    "from codes import *\n",
    "import pytz\n",
    "from enum import Enum\n",
    "\n",
    "from typing import Optional\n",
    "from datetime import datetime, timedelta\n",
    "from dateutil.relativedelta import relativedelta\n",
    "import pytz\n",
    "from pydantic import BaseModel\n",
    "\n",
    "from enum import Enum\n",
    "from typing import Optional, Dict, Any, List, Tuple\n",
    "from datetime import datetime, timedelta\n",
    "from dateutil.relativedelta import relativedelta\n",
    "import pytz\n",
    "import requests\n",
    "import pandas as pd\n",
    "import plotly.express as px\n",
    "from pydantic import BaseModel\n",
    "\n",
    "output_dir = '/Users/williamharrigan/Desktop/hackathon/'\n"
   ]
  },
  {
   "cell_type": "code",
   "execution_count": 2,
   "metadata": {},
   "outputs": [],
   "source": [
    "prompt_process_query = \"\"\"You are an AI assistant for the Hawai'i Climate Data Portal. \n",
    "You are responsible for answering the user query based on the results you get back from the tools.\n",
    "\n",
    "When a user asks a query, carefully analyze the query and determine the best way to respond to the following questions:\n",
    "1. What are the specific information the user is asking for?\n",
    "2. What tools do you need to use to get the information?\n",
    "3. What is the best way to format the response?\n",
    "\n",
    "Plan your response step by step using the available tools and respond with the final answer only.\n",
    "\n",
    "Output Format:\n",
    "Only respond with the final answer. Do not lead the user to more conversation.\n",
    "\"\"\"\n",
    "\n",
    "\n",
    "# prompt_process_query = \"\"\"You are a Concierge AI assistant for the Hawai'i Climate Data Portal (HCDP). Your primary job is to provide users accurate and reliable answers backed by the data extracted from the available tools. \n",
    "\n",
    "# Users may ask for two types of information:\n",
    "# 1. Climate data for a specific location and time period. You have access to the HCDP API, which provides climate data for various locations in Hawaii. You can use the API to get climate data such as temperature and rainfall for specific locations and time periods.\n",
    "# 2. General information about HCDP, including its purpose and how to access data. You can also provide general information about the HCDP web portal, including its purpose and how to access certain data.\n",
    "\n",
    "# When a user asks a query, carefully classify the query into one of the two categories mentioned above. If you are unable to classify the query, ask the user to clarify the question.\n",
    "\n",
    "# if the query is type 1: about climate data, fill in the following template:\n",
    "\n",
    "# aggregation: \"min\" | \"max\" | \"mean\", \n",
    "# period: \"day\" | \"month\" | \"year\",\n",
    "# location name: str,\n",
    "# start_date: Optional[str],\n",
    "# end_date: Optional[str]\n",
    "\n",
    "# Once you have the answers to the questions, plan your response step by step using the available tools and respond with the final answer only.\n",
    "\n",
    "# Output Format:\n",
    "# Only respond with the final answer in an easy to understand language. Do not lead the user to more conversation.\n",
    "\n",
    "# \"\"\""
   ]
  },
  {
   "cell_type": "code",
   "execution_count": 3,
   "metadata": {},
   "outputs": [],
   "source": [
    "prompt_process_agent = Agent(  \n",
    "    \"groq:deepseek-r1-distill-llama-70b\",\n",
    "    result_type=str,    \n",
    "    system_prompt=prompt_process_query,\n",
    "    model_settings={'temperature': 0.0}    \n",
    ")"
   ]
  },
  {
   "cell_type": "code",
   "execution_count": null,
   "metadata": {},
   "outputs": [],
   "source": [
    "\n",
    "# prompt_process_agent = Agent(  \n",
    "#     \"google:gemini-1.5-flash\",  # Gemini model\n",
    "#     result_type=str,\n",
    "#     system_prompt=prompt_process_query,\n",
    "#     model_settings={'temperature': 0.0}    \n",
    "# )\n"
   ]
  },
  {
   "cell_type": "code",
   "execution_count": 4,
   "metadata": {},
   "outputs": [],
   "source": [
    "# You will be given a token to access the HCDP API. Add that token here.\n",
    "hcdp_api_token = os.environ[\"hcdp_api_token\"]\n",
    "# Please input your email address. This will be used for user logging or distributing data packages\n",
    "email = \"INSERT_EMAIL_ADDRESS_HERE\"\n",
    "\n",
    "api_base_url = \"https://api.hcdp.ikewai.org\"\n",
    "# Setup header for API requests\n",
    "header = {\n",
    "  \"Authorization\": f\"Bearer {hcdp_api_token}\"\n",
    "}"
   ]
  },
  {
   "cell_type": "code",
   "execution_count": null,
   "metadata": {},
   "outputs": [],
   "source": [
    "## Functions from the HCDP documentation\n",
    "\n",
    "def display_raster(params, title, cmap = plt.cm.viridis.reversed(), nodata_color = \"#f0f0f0\"):\n",
    "    #construct raster endpoint url base\n",
    "    raster_ep = \"/raster\"\n",
    "    url = f\"{api_base_url}{raster_ep}\"\n",
    "    #construct url with params\n",
    "    url_constructor = PreparedRequest()\n",
    "    url_constructor.prepare_url(url, params)\n",
    "    full_url = url_constructor.url\n",
    "    print(f\"Constructed API request URL: {full_url}\")\n",
    "    #create request object for use with urlopen\n",
    "    req = Request(full_url, headers = header)\n",
    "    #seupt plot\n",
    "    fig, ax = plt.subplots(figsize=(20, 10), facecolor = \"#e0e0e0\")\n",
    "    #remove axis ticks (displays row, col numbers, not super helpful)\n",
    "    ax.axes.get_xaxis().set_ticks([])\n",
    "    ax.axes.get_yaxis().set_ticks([])\n",
    "    #set plot title\n",
    "    plt.title(title, fontsize = 20)\n",
    "    #set nodata value\n",
    "    cmap.set_bad(nodata_color)\n",
    "    #open data stream from API\n",
    "    with urlopen(req) as raster:\n",
    "        #read tiff image\n",
    "        img = mpimg.imread(raster, format = \"tiff\")\n",
    "        #mask nodata values\n",
    "        masked = np.ma.masked_equal(img, img[0][0])\n",
    "        #plot on map with color schema and add color bar\n",
    "        imgplot = ax.imshow(masked[:, :, 0], cmap = cmap)\n",
    "        fig.colorbar(imgplot, ax = ax)\n",
    "        \n",
    "        \n",
    "def query_stations(values, name, limit = 10000, offset = 0):\n",
    "    params = {\n",
    "        \"name\": name\n",
    "    }\n",
    "    for key in values:\n",
    "        params[f\"value.{key}\"] = values[key]\n",
    "    params = {\n",
    "        \"q\": json.dumps(params),\n",
    "        \"limit\": limit,\n",
    "        \"offset\": offset\n",
    "    }\n",
    "\n",
    "    print(params)\n",
    "    \n",
    "    stations_ep = \"/stations\"\n",
    "    url = f\"{api_base_url}{stations_ep}\"\n",
    "\n",
    "    res = requests.get(url, params, headers = header)\n",
    "    res.raise_for_status()\n",
    "    print(f\"Constructed API request URL: {res.url}\")\n",
    "    res = [item[\"value\"] for item in res.json()[\"result\"]]\n",
    "    return res\n",
    "\n",
    "def get_station_metadata():\n",
    "    res = query_stations({}, name = \"hcdp_station_metadata\")\n",
    "    data = {}\n",
    "    for metadata in res:\n",
    "        data[metadata[metadata[\"id_field\"]]] = metadata\n",
    "    return data\n",
    "\n",
    "def get_station_data(values, metadata = None, limit = 10000, offset = 0):\n",
    "    res = query_stations(values, name = \"hcdp_station_value\", limit = limit, offset = offset)\n",
    "    combined = res\n",
    "    if metadata is not None:\n",
    "        combined = []\n",
    "        # combine values with metadata for station\n",
    "        for item in res:\n",
    "            station_metadata = metadata.get(item[\"station_id\"])\n",
    "            #only return data with metadata\n",
    "            if station_metadata is not None:\n",
    "                #combine item with metadata and add to combined array\n",
    "                combined.append(item | station_metadata)\n",
    "    return combined"
   ]
  },
  {
   "cell_type": "code",
   "execution_count": 5,
   "metadata": {},
   "outputs": [],
   "source": [
    "class DataType(str, Enum):\n",
    "    TEMPERATURE = \"temperature\"\n",
    "    RAINFALL = \"rainfall\"\n",
    "\n",
    "class Aggregation(str, Enum):\n",
    "    MIN = \"min\"\n",
    "    MAX = \"max\"\n",
    "    MEAN = \"mean\"\n",
    "\n",
    "class Production(str, Enum):\n",
    "    '''\n",
    "    Production can be \"new\" or \"legacy\". Legacy rainfall maps are available from 1920-2012, whereas new rainfall maps are available from 1990-present\n",
    "    '''\n",
    "    NEW = \"new\"\n",
    "    LEGACY = \"legacy\"\n",
    "\n",
    "class Period(str, Enum):\n",
    "    DAY = \"day\"\n",
    "    MONTH = \"month\"\n",
    "    YEAR = \"year\"\n",
    "\n",
    "class Extent(str, Enum):\n",
    "    '''\n",
    "    HAWAII = Big Island, Hawai'i\n",
    "    KAUAI = Kauai island, Hawai'i\n",
    "    HONOLULU = O'ahu island, Hawai'i\n",
    "    MAUI = Maui island\n",
    "    STATEWIDE = all of the Hawaiian islands\n",
    "    '''\n",
    "    STATEWIDE = \"statewide\"  # Data for the whole state\n",
    "    HAWAII = \"bi\"            # Hawaii county\n",
    "    KAUAI = \"ka\"             # Kauai county\n",
    "    MAUI = \"mn\"              # Maui county\n",
    "    HONOLULU = \"oa\"          # Honolulu county\n",
    "\n",
    "class ClimateDataParams(BaseModel):\n",
    "    datatype: DataType\n",
    "    period: Period\n",
    "    start: str\n",
    "    end: str\n",
    "    extent: Extent\n",
    "    lat: Optional[float] = None\n",
    "    lng: Optional[float] = None\n",
    "    # Optional fields that differ between temperature and rainfall\n",
    "    aggregation: Optional[Aggregation] = None\n",
    "    production: Optional[Production] = None"
   ]
  },
  {
   "cell_type": "code",
   "execution_count": 6,
   "metadata": {},
   "outputs": [],
   "source": [
    "\n",
    "class ClimateAPI:     \n",
    "    def __init__(self, api_base_url: str, header: Dict[str, str]):         \n",
    "        self.api_base_url = api_base_url         \n",
    "        self.header = header         \n",
    "        self.raster_timeseries_ep = \"/raster/timeseries\"              \n",
    "\n",
    "    def get_timeseries_data(self, params: ClimateDataParams) -> pd.DataFrame:         \n",
    "        \"\"\"Get timeseries data from the API based on provided parameters\"\"\"         \n",
    "        url = f\"{self.api_base_url}{self.raster_timeseries_ep}\"                  \n",
    "        params_dict = params.model_dump()\n",
    "        \n",
    "        # Remove None values from params\n",
    "        params_dict = {k: v for k, v in params_dict.items() if v is not None}\n",
    "                  \n",
    "        res = requests.get(url, params_dict, headers=self.header)         \n",
    "        res.raise_for_status()         \n",
    "        print(f\"Constructed API request URL: {res.url}\")                  \n",
    "        data = res.json()         \n",
    "        df_data = list(data.items())                  \n",
    "        \n",
    "        # Determine value column name based on datatype\n",
    "        if params.datatype == DataType.TEMPERATURE:\n",
    "            value_col = f\"{params.aggregation.value.capitalize()} {params.datatype.value.capitalize()} (°C)\"\n",
    "        else:  # For rainfall\n",
    "            value_col = f\"{params.datatype.value.capitalize()} (mm)\"\n",
    "                  \n",
    "        df = pd.DataFrame(df_data, columns=[\"Date\", value_col])         \n",
    "        df = df.sort_values(by=\"Date\")                  \n",
    "        return df   \n",
    "\n",
    "    def plot_timeseries(self, df: pd.DataFrame, params: ClimateDataParams) -> None:\n",
    "        \"\"\"Line plot of timeseries data using Plotly. This is specifically for plotting a variable over time. Always output HTML unless specifically told not to.\"\"\"\n",
    "        value_col = df.columns[1]  # Second column contains the values\n",
    "        \n",
    "        # Create appropriate title based on params\n",
    "        if params.datatype == DataType.TEMPERATURE:\n",
    "            title = f\"Summary of {params.aggregation.value} {params.datatype.value} from {params.period.value}\"\n",
    "        else:\n",
    "            title = f\"Summary of {params.datatype.value} from {params.period.value}\"\n",
    "            \n",
    "        if params.lat is not None and params.lng is not None:\n",
    "            title += f\" for location Latitude: {params.lat}, Longitude: {params.lng}\"\n",
    "            \n",
    "        fig = px.line(df, title=title, x=\"Date\", y=value_col)\n",
    "        fig.write_html(f\"{output_dir}/test_new.html\")\n",
    "        return fig\n",
    "\n",
    "@prompt_process_agent.tool_plain  \n",
    "def get_temperature_timeseries(     \n",
    "    aggregation: Aggregation,     \n",
    "    period: Period,     \n",
    "    lat: float,     \n",
    "    lng: float,     \n",
    "    start_date: Optional[str] = None,      \n",
    "    end_date: Optional[str] = None,\n",
    "    extent: Optional[Extent] = Extent.STATEWIDE\n",
    ") -> Dict[str, Any]:     \n",
    "    \"\"\"Return temperature timeseries data for the specified location, period and aggregation\"\"\"     \n",
    "    api = ClimateAPI(api_base_url=api_base_url, header=header)     \n",
    "    print(\"API initialized:\", api)          \n",
    "\n",
    "    today = datetime.now(pytz.timezone(\"US/Hawaii\"))     \n",
    "    yesterday = today - timedelta(days=1)     \n",
    "    previous_year = today - relativedelta(years=1)          \n",
    "\n",
    "    start_str = start_date if start_date else previous_year.strftime(\"%Y-%m-%d\")     \n",
    "    end_str = end_date if end_date else yesterday.strftime(\"%Y-%m-%d\")          \n",
    "\n",
    "    # Create params for temperature (requires aggregation)\n",
    "    params = ClimateDataParams(         \n",
    "        datatype=DataType.TEMPERATURE,         \n",
    "        aggregation=aggregation,         \n",
    "        period=period,         \n",
    "        start=start_str,         \n",
    "        end=end_str,         \n",
    "        # extent=extent,     \n",
    "        extent=\"statewide\",   \n",
    "        lat=lat,         \n",
    "        lng=lng     \n",
    "    )          \n",
    "\n",
    "    print(\"Query parameters:\", params)          \n",
    "\n",
    "    df = api.get_timeseries_data(params)          \n",
    "\n",
    "    # Return structured result with data preview + summary     \n",
    "    result = {         \n",
    "        \"data_preview\": df.head(5).to_dict(orient=\"records\") + df.tail(5).to_dict(orient=\"records\"),\n",
    "        \"summary\": {             \n",
    "            \"mean\": df.iloc[:, 1].mean(),             \n",
    "            \"min\": df.iloc[:, 1].min(),             \n",
    "            \"max\": df.iloc[:, 1].max(),             \n",
    "            \"location\": {\"lat\": lat, \"lng\": lng},             \n",
    "            \"period\": f\"{start_str} to {end_str}\"         \n",
    "        }     \n",
    "    }\n",
    "\n",
    "    # Plot the time series if data exists and has a \"Date\" column\n",
    "    if not df.empty and \"Date\" in df.columns:\n",
    "        api.plot_timeseries(df, params)\n",
    "        print(\"Time series plot has been generated.\")\n",
    "    else:\n",
    "        print(\"No time series data available for plotting.\")\n",
    "     \n",
    "    return result  \n",
    "\n",
    "@prompt_process_agent.tool_plain  \n",
    "def get_rainfall_timeseries(     \n",
    "    period: Period,     \n",
    "    lat: float,     \n",
    "    lng: float,     \n",
    "    start_date: Optional[str] = None,      \n",
    "    end_date: Optional[str] = None,\n",
    "    production: Production = Production.NEW,\n",
    "    extent: Optional[Extent] = Extent.STATEWIDE\n",
    ") -> Dict[str, Any]:     \n",
    "    \"\"\"Return the max, mean and min of the rainfall data. Keep it concise.\"\"\"     \n",
    "    api = ClimateAPI(api_base_url=api_base_url, header=header)     \n",
    "    print(\"API initialized:\", api)          \n",
    "\n",
    "    today = datetime.now(pytz.timezone(\"US/Hawaii\"))     \n",
    "    yesterday = today - timedelta(days=1)     \n",
    "    previous_year = today - relativedelta(years=1)          \n",
    "\n",
    "    start_str = start_date if start_date else previous_year.strftime(\"%Y-%m-%d\")     \n",
    "    end_str = end_date if end_date else yesterday.strftime(\"%Y-%m-%d\")          \n",
    "\n",
    "    # Create params for rainfall (requires production instead of aggregation)\n",
    "    params = ClimateDataParams(         \n",
    "        datatype=DataType.RAINFALL,         \n",
    "        production=\"new\",         \n",
    "        period=period, \n",
    "        start = start_str,\n",
    "        end = end_str,\n",
    "        extent=extent,    \n",
    "        lat=lat,         \n",
    "        lng=lng     \n",
    "    )      \n",
    "    \n",
    "    print(\"Query parameters:\", params)          \n",
    "\n",
    "    df = api.get_timeseries_data(params)          \n",
    "\n",
    "    # Return structured result with data preview + summary     \n",
    "    result = {         \n",
    "        \"data_preview\": df.head(5).to_dict(orient=\"records\") + df.tail(5).to_dict(orient=\"records\"),\n",
    "        \"summary\": {             \n",
    "            \"mean\": df.iloc[:, 1].mean(),             \n",
    "            \"min\": df.iloc[:, 1].min(),             \n",
    "            \"max\": df.iloc[:, 1].max(),             \n",
    "            \"location\": {\"lat\": lat, \"lng\": lng},             \n",
    "            \"period\": f\"{start_str} to {end_str}\"         \n",
    "        }     \n",
    "    }\n",
    "\n",
    "    # Plot the time series if data exists and has a \"Date\" column\n",
    "    if not df.empty and \"Date\" in df.columns:\n",
    "        api.plot_timeseries(df, params)\n",
    "        print(\"Time series plot has been generated.\")\n",
    "    else:\n",
    "        print(\"No time series data available for plotting.\")\n",
    "     \n",
    "    return result"
   ]
  },
  {
   "cell_type": "code",
   "execution_count": 9,
   "metadata": {},
   "outputs": [],
   "source": [
    "r = await prompt_process_agent.run(\"What was the daily rainfall from August 2020 to August 2022 at the coordinates lat:21.301035061407028,lng:-157.81837141983394? Plot the rainfall timeseries.\")    "
   ]
  },
  {
   "cell_type": "code",
   "execution_count": 10,
   "metadata": {},
   "outputs": [
    {
     "data": {
      "text/plain": [
       "'The daily rainfall data from August 1, 2020, to August 31, 2022, at the coordinates lat: 21.301035061407028, lng: -157.81837141983394 is as follows:\\n\\n### Data Preview:\\n| Date                | Rainfall (mm) |\\n|---------------------|---------------|\\n| 2020-08-01T00:00:00| 0.00267953    |\\n| 2020-08-02T00:00:00| 0.803978      |\\n| 2020-08-03T00:00:00| 1.65966       |\\n| 2020-08-04T00:00:00| 0.134655      |\\n| 2020-08-05T00:00:00| 0.147128      |\\n| 2022-08-27T00:00:00| 0.306203      |\\n| 2022-08-28T00:00:00| 0.501638      |\\n| 2022-08-29T00:00:00| 0.0931039     |\\n| 2022-08-30T00:00:00| 0.192087      |\\n| 2022-08-31T00:00:00| 0.534026      |\\n\\n### Summary:\\n- **Mean Rainfall**: 2.2506904307838838 mm\\n- **Minimum Rainfall**: 0.0 mm\\n- **Maximum Rainfall**: 142.995 mm\\n- **Location**: lat: 21.301035061407028, lng: -157.81837141983394\\n- **Period**: 2020-08-01 to 2022-08-31'"
      ]
     },
     "execution_count": 10,
     "metadata": {},
     "output_type": "execute_result"
    }
   ],
   "source": [
    "r.data"
   ]
  },
  {
   "cell_type": "code",
   "execution_count": 11,
   "metadata": {},
   "outputs": [],
   "source": [
    "r = await prompt_process_agent.run(\"What was the mean temperature from August 2020 to August 2022 at the coordinates lat:21.301035061407028,lng:-157.81837141983394? Plot how the mean temperature changed everyday within that time range.\")    "
   ]
  },
  {
   "cell_type": "code",
   "execution_count": 12,
   "metadata": {},
   "outputs": [
    {
     "data": {
      "text/plain": [
       "'The mean temperature at the coordinates lat: 21.301035061407028, lng: -157.81837141983394 from August 1, 2020, to August 31, 2022, was **24.79°C**. The temperature fluctuated between a minimum of **19.2°C** and a maximum of **27.8°C** during this period.\\n\\nTo visualize how the mean temperature changed daily, you can plot the timeseries data. The data preview shows that temperatures generally remained consistent, with slight variations. For example:\\n- On August 1, 2020, the mean temperature was **26.3°C**.\\n- On August 31, 2022, the mean temperature was **25.5°C**.\\n\\nYou can use the full dataset to create a line graph where the x-axis represents the date and the y-axis represents the mean temperature in degrees Celsius. This will provide a clear visual representation of the daily temperature changes over the specified time range.'"
      ]
     },
     "execution_count": 12,
     "metadata": {},
     "output_type": "execute_result"
    }
   ],
   "source": [
    "r.data"
   ]
  },
  {
   "cell_type": "code",
   "execution_count": 13,
   "metadata": {},
   "outputs": [],
   "source": [
    "r = await prompt_process_agent.run(\"What was the mean temperature from August 2020 to August 2022 at the coordinates lat:21.501947,lng:-157.966537? Plot how the mean temperature changed everyday within that time range.\")    "
   ]
  },
  {
   "cell_type": "code",
   "execution_count": 14,
   "metadata": {},
   "outputs": [
    {
     "data": {
      "text/plain": [
       "'The mean temperature from August 1, 2020, to August 31, 2022, at the coordinates lat: 21.501947, lng: -157.966537 was **22.32°C**. \\n\\nHere’s a summary of the temperature data:\\n- **Mean Temperature**: 22.32°C\\n- **Minimum Temperature**: 16.7°C\\n- **Maximum Temperature**: 26.1°C\\n\\nBelow is a preview of the daily mean temperature data:\\n\\n| Date       | Mean Temperature (°C) |\\n|------------|-------------------------|\\n| 2020-08-01 | 23.1                   |\\n| 2020-08-02 | 23.1                   |\\n| 2020-08-03 | 23.7                   |\\n| 2020-08-04 | 23.6                   |\\n| 2020-08-05 | 24.5                   |\\n| 2022-08-27 | 24.8                   |\\n| 2022-08-28 | 23.8                   |\\n| 2022-08-29 | 24.0                   |\\n| 2022-08-30 | 24.0                   |\\n| 2022-08-31 | 23.8                   |\\n\\nTo visualize how the mean temperature changed over time, you can plot the data using tools like Excel or Python libraries such as matplotlib.'"
      ]
     },
     "execution_count": 14,
     "metadata": {},
     "output_type": "execute_result"
    }
   ],
   "source": [
    "r.data"
   ]
  },
  {
   "cell_type": "code",
   "execution_count": 15,
   "metadata": {},
   "outputs": [],
   "source": [
    "r = await prompt_process_agent.run(\"Give me the max temperature monthly from August 1990 to August 2000 in coordinates [21.3069, -157.8583]?\")"
   ]
  },
  {
   "cell_type": "code",
   "execution_count": 16,
   "metadata": {},
   "outputs": [
    {
     "data": {
      "text/plain": [
       "'Here is the monthly maximum temperature data from August 1990 to August 2000 at the coordinates [21.3069, -157.8583]:\\n\\n- **Date**: 1990-08-01T00:00:00 | **Max Temperature (°C)**: 29.9217  \\n- **Date**: 1990-09-01T00:00:00 | **Max Temperature (°C)**: 29.9504  \\n- **Date**: 1990-10-01T00:00:00 | **Max Temperature (°C)**: 29.032  \\n- **Date**: 1990-11-01T00:00:00 | **Max Temperature (°C)**: 27.7978  \\n- **Date**: 1990-12-01T00:00:00 | **Max Temperature (°C)**: 26.3513  \\n- **Date**: 2000-04-01T00:00:00 | **Max Temperature (°C)**: 26.5754  \\n- **Date**: 2000-05-01T00:00:00 | **Max Temperature (°C)**: 28.5216  \\n- **Date**: 2000-06-01T00:00:00 | **Max Temperature (°C)**: 29.5135  \\n- **Date**: 2000-07-01T00:00:00 | **Max Temperature (°C)**: 29.3669  \\n- **Date**: 2000-08-01T00:00:00 | **Max Temperature (°C)**: 29.8944  \\n\\n### Summary:\\n- **Mean Temperature**: 27.830229752066117°C  \\n- **Minimum Temperature**: 25.0281°C  \\n- **Maximum Temperature**: 30.3468°C  \\n- **Location**: [21.3069, -157.8583]  \\n- **Period**: 1990-08 to 2000-08  \\n\\nThis data provides a monthly overview of maximum temperatures during the specified period.'"
      ]
     },
     "execution_count": 16,
     "metadata": {},
     "output_type": "execute_result"
    }
   ],
   "source": [
    "r.data"
   ]
  },
  {
   "cell_type": "code",
   "execution_count": 21,
   "metadata": {},
   "outputs": [],
   "source": [
    "r = await prompt_process_agent.run(\"What was the max temperature yesterday at random lat/long coordinates on Kauai Island, Hawai'i?\")"
   ]
  },
  {
   "cell_type": "code",
   "execution_count": 22,
   "metadata": {},
   "outputs": [
    {
     "data": {
      "text/plain": [
       "\"The maximum temperature yesterday at the specified coordinates on Kauai Island, Hawai'i was 75°F.\""
      ]
     },
     "execution_count": 22,
     "metadata": {},
     "output_type": "execute_result"
    }
   ],
   "source": [
    "r.data"
   ]
  },
  {
   "cell_type": "code",
   "execution_count": 19,
   "metadata": {},
   "outputs": [],
   "source": [
    "r = await prompt_process_agent.run(\"What was the max temperature today at 19.5, -155.5?\")"
   ]
  },
  {
   "cell_type": "code",
   "execution_count": 20,
   "metadata": {},
   "outputs": [
    {
     "data": {
      "text/plain": [
       "'The maximum temperature at 19.5, -155.5 on April 4, 2025, was 13.7°C.'"
      ]
     },
     "execution_count": 20,
     "metadata": {},
     "output_type": "execute_result"
    }
   ],
   "source": [
    "r.data"
   ]
  }
 ],
 "metadata": {
  "kernelspec": {
   "display_name": "clean_base",
   "language": "python",
   "name": "python3"
  },
  "language_info": {
   "codemirror_mode": {
    "name": "ipython",
    "version": 3
   },
   "file_extension": ".py",
   "mimetype": "text/x-python",
   "name": "python",
   "nbconvert_exporter": "python",
   "pygments_lexer": "ipython3",
   "version": "3.12.4"
  }
 },
 "nbformat": 4,
 "nbformat_minor": 2
}
