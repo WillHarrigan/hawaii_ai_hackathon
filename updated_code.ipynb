{
 "cells": [
  {
   "cell_type": "code",
   "execution_count": null,
   "metadata": {},
   "outputs": [],
   "source": [
    "ls"
   ]
  },
  {
   "cell_type": "code",
   "execution_count": 1,
   "metadata": {},
   "outputs": [],
   "source": [
    "from pydantic_ai import Agent\n",
    "import os\n",
    "import requests\n",
    "from datetime import datetime, timedelta\n",
    "import matplotlib.image as mpimg\n",
    "import matplotlib.pyplot as plt\n",
    "from requests.models import PreparedRequest\n",
    "from urllib.request import Request, urlopen\n",
    "import numpy as np\n",
    "from dateutil.relativedelta import relativedelta\n",
    "from typing import Optional\n",
    "\n",
    "import json\n",
    "import plotly.express as px\n",
    "import pandas as pd\n",
    "from pydantic import Field\n",
    "from codes import *\n",
    "import pytz\n",
    "from enum import Enum\n",
    "\n",
    "from typing import Optional\n",
    "from datetime import datetime, timedelta\n",
    "from dateutil.relativedelta import relativedelta\n",
    "import pytz\n",
    "from pydantic import BaseModel\n",
    "\n",
    "from enum import Enum\n",
    "from typing import Optional, Dict, Any, List, Tuple\n",
    "from datetime import datetime, timedelta\n",
    "from dateutil.relativedelta import relativedelta\n",
    "import pytz\n",
    "import requests\n",
    "import pandas as pd\n",
    "import plotly.express as px\n",
    "from pydantic import BaseModel\n"
   ]
  },
  {
   "cell_type": "code",
   "execution_count": 2,
   "metadata": {},
   "outputs": [],
   "source": [
    "prompt_process_query = \"\"\"You are an AI assistant for the Hawai'i Climate Data Portal. \n",
    "You are responsible for answering the user query based on the results you get back from the tools.\n",
    "\n",
    "When a user asks a query, carefully analyze the query and determine the best way to respond to the following questions:\n",
    "1. What are the specific information the user is asking for?\n",
    "2. What tools do you need to use to get the information?\n",
    "3. What is the best way to format the response?\n",
    "\n",
    "Plan your response step by step using the available tools and respond with the final answer only.\n",
    "\n",
    "Output Format:\n",
    "Only respond with the final answer. Do not lead the user to more conversation.\n",
    "\"\"\""
   ]
  },
  {
   "cell_type": "code",
   "execution_count": 3,
   "metadata": {},
   "outputs": [],
   "source": [
    "prompt_process_agent = Agent(  \n",
    "    \"groq:deepseek-r1-distill-llama-70b\",\n",
    "    result_type=str,    \n",
    "    system_prompt=prompt_process_query,\n",
    "    model_settings={'temperature': 0.0}    \n",
    ")"
   ]
  },
  {
   "cell_type": "code",
   "execution_count": null,
   "metadata": {},
   "outputs": [],
   "source": [
    "\n",
    "# prompt_process_agent = Agent(  \n",
    "#     \"google:gemini-1.5-flash\",  # Gemini model\n",
    "#     result_type=str,\n",
    "#     system_prompt=prompt_process_query,\n",
    "#     model_settings={'temperature': 0.0}    \n",
    "# )\n"
   ]
  },
  {
   "cell_type": "code",
   "execution_count": 4,
   "metadata": {},
   "outputs": [],
   "source": [
    "# You will be given a token to access the HCDP API. Add that token here.\n",
    "hcdp_api_token = \"c8aebebea3d9684526cfdab0fc62cbd6\"\n",
    "# Please input your email address. This will be used for user logging or distributing data packages\n",
    "email = \"INSERT_EMAIL_ADDRESS_HERE\"\n",
    "\n",
    "api_base_url = \"https://api.hcdp.ikewai.org\"\n",
    "# Setup header for API requests\n",
    "header = {\n",
    "  \"Authorization\": f\"Bearer {hcdp_api_token}\"\n",
    "}"
   ]
  },
  {
   "cell_type": "code",
   "execution_count": 5,
   "metadata": {},
   "outputs": [],
   "source": [
    "## Functions from the HCDP documentation\n",
    "\n",
    "def display_raster(params, title, cmap = plt.cm.viridis.reversed(), nodata_color = \"#f0f0f0\"):\n",
    "    #construct raster endpoint url base\n",
    "    raster_ep = \"/raster\"\n",
    "    url = f\"{api_base_url}{raster_ep}\"\n",
    "    #construct url with params\n",
    "    url_constructor = PreparedRequest()\n",
    "    url_constructor.prepare_url(url, params)\n",
    "    full_url = url_constructor.url\n",
    "    print(f\"Constructed API request URL: {full_url}\")\n",
    "    #create request object for use with urlopen\n",
    "    req = Request(full_url, headers = header)\n",
    "    #seupt plot\n",
    "    fig, ax = plt.subplots(figsize=(20, 10), facecolor = \"#e0e0e0\")\n",
    "    #remove axis ticks (displays row, col numbers, not super helpful)\n",
    "    ax.axes.get_xaxis().set_ticks([])\n",
    "    ax.axes.get_yaxis().set_ticks([])\n",
    "    #set plot title\n",
    "    plt.title(title, fontsize = 20)\n",
    "    #set nodata value\n",
    "    cmap.set_bad(nodata_color)\n",
    "    #open data stream from API\n",
    "    with urlopen(req) as raster:\n",
    "        #read tiff image\n",
    "        img = mpimg.imread(raster, format = \"tiff\")\n",
    "        #mask nodata values\n",
    "        masked = np.ma.masked_equal(img, img[0][0])\n",
    "        #plot on map with color schema and add color bar\n",
    "        imgplot = ax.imshow(masked[:, :, 0], cmap = cmap)\n",
    "        fig.colorbar(imgplot, ax = ax)\n",
    "        \n",
    "        \n",
    "def query_stations(values, name, limit = 10000, offset = 0):\n",
    "    params = {\n",
    "        \"name\": name\n",
    "    }\n",
    "    for key in values:\n",
    "        params[f\"value.{key}\"] = values[key]\n",
    "    params = {\n",
    "        \"q\": json.dumps(params),\n",
    "        \"limit\": limit,\n",
    "        \"offset\": offset\n",
    "    }\n",
    "\n",
    "    print(params)\n",
    "    \n",
    "    stations_ep = \"/stations\"\n",
    "    url = f\"{api_base_url}{stations_ep}\"\n",
    "\n",
    "    res = requests.get(url, params, headers = header)\n",
    "    res.raise_for_status()\n",
    "    print(f\"Constructed API request URL: {res.url}\")\n",
    "    res = [item[\"value\"] for item in res.json()[\"result\"]]\n",
    "    return res\n",
    "\n",
    "def get_station_metadata():\n",
    "    res = query_stations({}, name = \"hcdp_station_metadata\")\n",
    "    data = {}\n",
    "    for metadata in res:\n",
    "        data[metadata[metadata[\"id_field\"]]] = metadata\n",
    "    return data\n",
    "\n",
    "def get_station_data(values, metadata = None, limit = 10000, offset = 0):\n",
    "    res = query_stations(values, name = \"hcdp_station_value\", limit = limit, offset = offset)\n",
    "    combined = res\n",
    "    if metadata is not None:\n",
    "        combined = []\n",
    "        # combine values with metadata for station\n",
    "        for item in res:\n",
    "            station_metadata = metadata.get(item[\"station_id\"])\n",
    "            #only return data with metadata\n",
    "            if station_metadata is not None:\n",
    "                #combine item with metadata and add to combined array\n",
    "                combined.append(item | station_metadata)\n",
    "    return combined"
   ]
  },
  {
   "cell_type": "code",
   "execution_count": 6,
   "metadata": {},
   "outputs": [],
   "source": [
    "## Create classes for parameters to input to API\n",
    "\n",
    "class DataType(str, Enum):\n",
    "    TEMPERATURE = \"temperature\"\n",
    "    RAINFALL = \"rainfall\"\n",
    "\n",
    "\n",
    "class Aggregation(str, Enum):\n",
    "    MIN = \"min\"\n",
    "    MAX = \"max\"\n",
    "    MEAN = \"mean\"\n",
    "\n",
    "\n",
    "class Period(str, Enum):\n",
    "    DAY = \"day\"\n",
    "    MONTH = \"month\"\n",
    "    YEAR = \"year\"\n",
    "\n",
    "from enum import Enum\n",
    "\n",
    "class Extent(str, Enum):\n",
    "    '''\n",
    "    HAWAII = Big Island, Hawai'i\n",
    "    KAUAI = Kauai island, Hawai'i\n",
    "    HONOLULU = O'ahu island, Hawai'i\n",
    "    MAUI = Maui island\n",
    "    STATEWIDE = all of the Hawaiian islands\n",
    "    \n",
    "    '''\n",
    "    \n",
    "    STATEWIDE = \"statewide\"  # Data for the whole state\n",
    "    HAWAII = \"bi\"            # Hawaii county\n",
    "    KAUAI = \"ka\"             # Kauai county\n",
    "    MAUI = \"mn\"              # Maui county\n",
    "    HONOLULU = \"oa\"          # Honolulu county\n",
    "\n",
    "\n",
    "\n",
    "class ClimateDataParams(BaseModel):\n",
    "    datatype: DataType\n",
    "    aggregation: Aggregation\n",
    "    period: Period\n",
    "    start: str\n",
    "    end: str\n",
    "    extent: Extent = Extent.STATEWIDE\n",
    "    lat: Optional[float] = None\n",
    "    lng: Optional[float] = None"
   ]
  },
  {
   "cell_type": "code",
   "execution_count": 7,
   "metadata": {},
   "outputs": [],
   "source": [
    "class ClimateAPI:\n",
    "    def __init__(self, api_base_url: str, header: Dict[str, str]):\n",
    "        self.api_base_url = api_base_url\n",
    "        self.header = header\n",
    "        self.raster_timeseries_ep = \"/raster/timeseries\"\n",
    "        \n",
    "    def get_timeseries_data(self, params: ClimateDataParams) -> pd.DataFrame:\n",
    "        \"\"\"\n",
    "        Get timeseries data from the API based on provided parameters\n",
    "        \"\"\"\n",
    "        url = f\"{self.api_base_url}{self.raster_timeseries_ep}\"\n",
    "        \n",
    "        # Convert pydantic model to dict for request\n",
    "        params_dict = params.model_dump()\n",
    "        \n",
    "        res = requests.get(url, params_dict, headers=self.header)\n",
    "        res.raise_for_status()\n",
    "        print(f\"Constructed API request URL: {res.url}\")\n",
    "        \n",
    "        data = res.json()\n",
    "        \n",
    "        # Convert returned JSON to DataFrame\n",
    "        df_data = list(data.items())\n",
    "        \n",
    "        # Determine column name based on datatype and aggregation\n",
    "        value_col = (\n",
    "            f\"{params.aggregation.value.capitalize()} {params.datatype.value.capitalize()} (°C)\"\n",
    "            if params.datatype == DataType.TEMPERATURE\n",
    "            else f\"{params.aggregation.value.capitalize()} {params.datatype.value.capitalize()} (mm)\"\n",
    "        )\n",
    "        \n",
    "        df = pd.DataFrame(df_data, columns=[\"Date\", value_col])\n",
    "        df = df.sort_values(by=\"Date\")\n",
    "        \n",
    "        return df\n",
    "\n",
    "\n",
    "@prompt_process_agent.tool_plain \n",
    "def get_climate_timeseries(\n",
    "    datatype: DataType,\n",
    "    aggregation: Aggregation,\n",
    "    period: Period,\n",
    "    lat: float,\n",
    "    lng: float,\n",
    "    start_date: Optional[str] = None, \n",
    "    end_date: Optional[str] = None\n",
    ") -> Dict[str, Any]:\n",
    "    \"\"\"\n",
    "    Return temperature or rainfall timeseries data for the specified location, period and aggregation\n",
    "    \"\"\"\n",
    "    api = ClimateAPI(api_base_url=api_base_url, header=header)\n",
    "    print(\"API initialized:\", api)\n",
    "    \n",
    "    # Default dates: from 1 year ago to yesterday\n",
    "    today = datetime.now(pytz.timezone(\"US/Hawaii\"))\n",
    "    yesterday = today - timedelta(days=1)\n",
    "    previous_year = today - relativedelta(years=1)\n",
    "    \n",
    "    start_str = start_date if start_date else previous_year.strftime(\"%Y-%m-%d\")\n",
    "    end_str = end_date if end_date else yesterday.strftime(\"%Y-%m-%d\")\n",
    "    \n",
    "    print(\"Date range →\", start_str, \"to\", end_str)\n",
    "    \n",
    "    # Create parameters object\n",
    "    params = ClimateDataParams(\n",
    "        datatype=datatype,\n",
    "        aggregation=aggregation,\n",
    "        period=period,\n",
    "        start=start_str,\n",
    "        end=end_str,\n",
    "        extent=\"statewide\",\n",
    "        lat=lat,\n",
    "        lng=lng\n",
    "    )\n",
    "    \n",
    "    print(\"Query parameters:\", params)\n",
    "    \n",
    "    df = api.get_timeseries_data(params)\n",
    "    \n",
    "    # Return structured result with data + summary\n",
    "    result = {\n",
    "        \"data\": df.to_dict(orient=\"records\"),\n",
    "        \"summary\": {\n",
    "            \"mean\": df.iloc[:, 1].mean(),\n",
    "            \"min\": df.iloc[:, 1].min(),\n",
    "            \"max\": df.iloc[:, 1].max(),\n",
    "            \"location\": {\"lat\": lat, \"lng\": lng},\n",
    "            \"period\": f\"{start_str} to {end_str}\"\n",
    "        }\n",
    "    }\n",
    "    \n",
    "    return result\n"
   ]
  },
  {
   "cell_type": "code",
   "execution_count": 8,
   "metadata": {},
   "outputs": [
    {
     "name": "stdout",
     "output_type": "stream",
     "text": [
      "API initialized: <__main__.ClimateAPI object at 0x132fb70e0>\n",
      "Date range → 2020-08-01 to 2022-08-01\n",
      "Query parameters: datatype=<DataType.TEMPERATURE: 'temperature'> aggregation=<Aggregation.MEAN: 'mean'> period=<Period.MONTH: 'month'> start='2020-08-01' end='2022-08-01' extent=<Extent.STATEWIDE: 'statewide'> lat=21.501947 lng=-157.966537\n",
      "Constructed API request URL: https://api.hcdp.ikewai.org/raster/timeseries?datatype=temperature&aggregation=mean&period=month&start=2020-08-01&end=2022-08-01&extent=statewide&lat=21.501947&lng=-157.966537\n"
     ]
    }
   ],
   "source": [
    "r = await prompt_process_agent.run(\"Give me the mean temperature from August 2020 to August 2022 at the coorinates lat:21.501947,lng:-157.966537?\")"
   ]
  },
  {
   "cell_type": "code",
   "execution_count": 9,
   "metadata": {},
   "outputs": [
    {
     "data": {
      "text/plain": [
       "\"The mean temperature at the coordinates lat: 21.501947, lng: -157.966537 from August 2020 to August 2022 was approximately 22.3°C. The temperature ranged from a low of 20.16°C in January 2021 to a high of 24.65°C in September 2020. The data shows a slight dip in temperatures during early 2021, with a gradual increase in mid-2022. Let me know if you'd like more detailed information!\""
      ]
     },
     "execution_count": 9,
     "metadata": {},
     "output_type": "execute_result"
    }
   ],
   "source": [
    "r.data"
   ]
  },
  {
   "cell_type": "code",
   "execution_count": 14,
   "metadata": {},
   "outputs": [
    {
     "name": "stdout",
     "output_type": "stream",
     "text": [
      "API initialized: <__main__.ClimateAPI object at 0x132fb6ae0>\n",
      "Date range → 2024-04-04 to 2025-04-03\n",
      "Query parameters: datatype=<DataType.TEMPERATURE: 'temperature'> aggregation=<Aggregation.MAX: 'max'> period=<Period.DAY: 'day'> start='2024-04-04' end='2025-04-03' extent=<Extent.STATEWIDE: 'statewide'> lat=19.5 lng=-155.5\n",
      "Constructed API request URL: https://api.hcdp.ikewai.org/raster/timeseries?datatype=temperature&aggregation=max&period=day&start=2024-04-04&end=2025-04-03&extent=statewide&lat=19.5&lng=-155.5\n",
      "API initialized: <__main__.ClimateAPI object at 0x132f590d0>\n",
      "Date range → 2024-04-04 to 2025-04-03\n",
      "Query parameters: datatype=<DataType.TEMPERATURE: 'temperature'> aggregation=<Aggregation.MAX: 'max'> period=<Period.DAY: 'day'> start='2024-04-04' end='2025-04-03' extent=<Extent.STATEWIDE: 'statewide'> lat=22.05 lng=-159.8\n",
      "Constructed API request URL: https://api.hcdp.ikewai.org/raster/timeseries?datatype=temperature&aggregation=max&period=day&start=2024-04-04&end=2025-04-03&extent=statewide&lat=22.05&lng=-159.8\n",
      "API initialized: <__main__.ClimateAPI object at 0x142389760>\n",
      "Date range → 2024-04-04 to 2025-04-03\n",
      "Query parameters: datatype=<DataType.TEMPERATURE: 'temperature'> aggregation=<Aggregation.MAX: 'max'> period=<Period.DAY: 'day'> start='2024-04-04' end='2025-04-03' extent=<Extent.STATEWIDE: 'statewide'> lat=22.05 lng=-159.79\n",
      "Constructed API request URL: https://api.hcdp.ikewai.org/raster/timeseries?datatype=temperature&aggregation=max&period=day&start=2024-04-04&end=2025-04-03&extent=statewide&lat=22.05&lng=-159.79\n",
      "API initialized: <__main__.ClimateAPI object at 0x132f5a060>\n",
      "Date range → 2024-04-04 to 2025-04-03\n",
      "Query parameters: datatype=<DataType.TEMPERATURE: 'temperature'> aggregation=<Aggregation.MAX: 'max'> period=<Period.DAY: 'day'> start='2024-04-04' end='2025-04-03' extent=<Extent.STATEWIDE: 'statewide'> lat=19.5 lng=-155.5\n",
      "Constructed API request URL: https://api.hcdp.ikewai.org/raster/timeseries?datatype=temperature&aggregation=max&period=day&start=2024-04-04&end=2025-04-03&extent=statewide&lat=19.5&lng=-155.5\n"
     ]
    }
   ],
   "source": [
    "r = await prompt_process_agent.run(\"What was the max temperature yesterday at random lat/long coordinates on Big Island, Hawai'i?\")"
   ]
  },
  {
   "cell_type": "code",
   "execution_count": 15,
   "metadata": {},
   "outputs": [
    {
     "data": {
      "text/plain": [
       "\"The maximum temperature yesterday at the coordinates (19.5, -155.5) on the Big Island, Hawai'i, was **9.2°C**.\""
      ]
     },
     "execution_count": 15,
     "metadata": {},
     "output_type": "execute_result"
    }
   ],
   "source": [
    "r.data"
   ]
  },
  {
   "cell_type": "code",
   "execution_count": 18,
   "metadata": {},
   "outputs": [],
   "source": [
    "r = await prompt_process_agent.run(\"What was the max temperature today at 19.5, -155.5?\")"
   ]
  },
  {
   "cell_type": "code",
   "execution_count": 19,
   "metadata": {},
   "outputs": [
    {
     "data": {
      "text/plain": [
       "'The maximum temperature today at 19.5, -155.5 was 13.4°C.'"
      ]
     },
     "execution_count": 19,
     "metadata": {},
     "output_type": "execute_result"
    }
   ],
   "source": [
    "r.data"
   ]
  },
  {
   "cell_type": "code",
   "execution_count": null,
   "metadata": {},
   "outputs": [],
   "source": []
  }
 ],
 "metadata": {
  "kernelspec": {
   "display_name": "clean_base",
   "language": "python",
   "name": "python3"
  },
  "language_info": {
   "codemirror_mode": {
    "name": "ipython",
    "version": 3
   },
   "file_extension": ".py",
   "mimetype": "text/x-python",
   "name": "python",
   "nbconvert_exporter": "python",
   "pygments_lexer": "ipython3",
   "version": "3.12.4"
  }
 },
 "nbformat": 4,
 "nbformat_minor": 2
}
